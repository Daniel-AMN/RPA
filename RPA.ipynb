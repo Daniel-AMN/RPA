{
 "cells": [
  {
   "cell_type": "code",
   "execution_count": 1,
   "metadata": {},
   "outputs": [
    {
     "name": "stdout",
     "output_type": "stream",
     "text": [
      "Requirement already satisfied: pandas in c:\\python\\lib\\site-packages (2.0.3)\n",
      "Requirement already satisfied: python-dateutil>=2.8.2 in c:\\users\\fiska\\appdata\\roaming\\python\\python311\\site-packages (from pandas) (2.8.2)\n",
      "Requirement already satisfied: pytz>=2020.1 in c:\\python\\lib\\site-packages (from pandas) (2023.3)\n",
      "Requirement already satisfied: tzdata>=2022.1 in c:\\python\\lib\\site-packages (from pandas) (2023.3)\n",
      "Requirement already satisfied: numpy>=1.21.0 in c:\\python\\lib\\site-packages (from pandas) (1.25.1)\n",
      "Requirement already satisfied: six>=1.5 in c:\\users\\fiska\\appdata\\roaming\\python\\python311\\site-packages (from python-dateutil>=2.8.2->pandas) (1.16.0)\n"
     ]
    },
    {
     "name": "stderr",
     "output_type": "stream",
     "text": [
      "\n",
      "[notice] A new release of pip is available: 23.1.2 -> 23.2\n",
      "[notice] To update, run: python.exe -m pip install --upgrade pip\n"
     ]
    }
   ],
   "source": [
    "!pip install pandas"
   ]
  },
  {
   "cell_type": "code",
   "execution_count": 2,
   "metadata": {},
   "outputs": [
    {
     "name": "stdout",
     "output_type": "stream",
     "text": [
      "Requirement already satisfied: openpyxl in c:\\python\\lib\\site-packages (3.1.2)\n",
      "Requirement already satisfied: et-xmlfile in c:\\python\\lib\\site-packages (from openpyxl) (1.1.0)\n"
     ]
    },
    {
     "name": "stderr",
     "output_type": "stream",
     "text": [
      "\n",
      "[notice] A new release of pip is available: 23.1.2 -> 23.2\n",
      "[notice] To update, run: python.exe -m pip install --upgrade pip\n"
     ]
    }
   ],
   "source": [
    "!pip install openpyxl"
   ]
  },
  {
   "cell_type": "code",
   "execution_count": 3,
   "metadata": {},
   "outputs": [
    {
     "name": "stdout",
     "output_type": "stream",
     "text": [
      "Requirement already satisfied: requests in c:\\python\\lib\\site-packages (2.31.0)\n",
      "Requirement already satisfied: charset-normalizer<4,>=2 in c:\\python\\lib\\site-packages (from requests) (3.2.0)\n",
      "Requirement already satisfied: idna<4,>=2.5 in c:\\python\\lib\\site-packages (from requests) (3.4)\n",
      "Requirement already satisfied: urllib3<3,>=1.21.1 in c:\\python\\lib\\site-packages (from requests) (2.0.3)\n",
      "Requirement already satisfied: certifi>=2017.4.17 in c:\\python\\lib\\site-packages (from requests) (2023.5.7)\n"
     ]
    },
    {
     "name": "stderr",
     "output_type": "stream",
     "text": [
      "\n",
      "[notice] A new release of pip is available: 23.1.2 -> 23.2\n",
      "[notice] To update, run: python.exe -m pip install --upgrade pip\n"
     ]
    }
   ],
   "source": [
    "!pip install requests"
   ]
  },
  {
   "cell_type": "code",
   "execution_count": 4,
   "metadata": {},
   "outputs": [
    {
     "name": "stdout",
     "output_type": "stream",
     "text": [
      "Requirement already satisfied: bs4 in c:\\python\\lib\\site-packages (0.0.1)\n",
      "Requirement already satisfied: beautifulsoup4 in c:\\python\\lib\\site-packages (from bs4) (4.12.2)\n",
      "Requirement already satisfied: soupsieve>1.2 in c:\\python\\lib\\site-packages (from beautifulsoup4->bs4) (2.4.1)\n"
     ]
    },
    {
     "name": "stderr",
     "output_type": "stream",
     "text": [
      "\n",
      "[notice] A new release of pip is available: 23.1.2 -> 23.2\n",
      "[notice] To update, run: python.exe -m pip install --upgrade pip\n"
     ]
    },
    {
     "name": "stdout",
     "output_type": "stream",
     "text": [
      "Requirement already satisfied: pandas in c:\\python\\lib\\site-packages (2.0.3)\n",
      "Requirement already satisfied: python-dateutil>=2.8.2 in c:\\users\\fiska\\appdata\\roaming\\python\\python311\\site-packages (from pandas) (2.8.2)\n",
      "Requirement already satisfied: pytz>=2020.1 in c:\\python\\lib\\site-packages (from pandas) (2023.3)\n",
      "Requirement already satisfied: tzdata>=2022.1 in c:\\python\\lib\\site-packages (from pandas) (2023.3)\n",
      "Requirement already satisfied: numpy>=1.21.0 in c:\\python\\lib\\site-packages (from pandas) (1.25.1)\n",
      "Requirement already satisfied: six>=1.5 in c:\\users\\fiska\\appdata\\roaming\\python\\python311\\site-packages (from python-dateutil>=2.8.2->pandas) (1.16.0)\n"
     ]
    },
    {
     "name": "stderr",
     "output_type": "stream",
     "text": [
      "\n",
      "[notice] A new release of pip is available: 23.1.2 -> 23.2\n",
      "[notice] To update, run: python.exe -m pip install --upgrade pip\n"
     ]
    },
    {
     "name": "stdout",
     "output_type": "stream",
     "text": [
      "Requirement already satisfied: selenium in c:\\python\\lib\\site-packages (4.10.0)\n",
      "Requirement already satisfied: urllib3[socks]<3,>=1.26 in c:\\python\\lib\\site-packages (from selenium) (2.0.3)\n",
      "Requirement already satisfied: trio~=0.17 in c:\\python\\lib\\site-packages (from selenium) (0.22.0)\n",
      "Requirement already satisfied: trio-websocket~=0.9 in c:\\python\\lib\\site-packages (from selenium) (0.10.3)\n",
      "Requirement already satisfied: certifi>=2021.10.8 in c:\\python\\lib\\site-packages (from selenium) (2023.5.7)\n",
      "Requirement already satisfied: attrs>=19.2.0 in c:\\python\\lib\\site-packages (from trio~=0.17->selenium) (23.1.0)\n",
      "Requirement already satisfied: sortedcontainers in c:\\python\\lib\\site-packages (from trio~=0.17->selenium) (2.4.0)\n",
      "Requirement already satisfied: async-generator>=1.9 in c:\\python\\lib\\site-packages (from trio~=0.17->selenium) (1.10)\n",
      "Requirement already satisfied: idna in c:\\python\\lib\\site-packages (from trio~=0.17->selenium) (3.4)\n",
      "Requirement already satisfied: outcome in c:\\python\\lib\\site-packages (from trio~=0.17->selenium) (1.2.0)\n",
      "Requirement already satisfied: sniffio in c:\\python\\lib\\site-packages (from trio~=0.17->selenium) (1.3.0)\n",
      "Requirement already satisfied: cffi>=1.14 in c:\\python\\lib\\site-packages (from trio~=0.17->selenium) (1.15.1)\n",
      "Requirement already satisfied: exceptiongroup in c:\\python\\lib\\site-packages (from trio-websocket~=0.9->selenium) (1.1.1)\n",
      "Requirement already satisfied: wsproto>=0.14 in c:\\python\\lib\\site-packages (from trio-websocket~=0.9->selenium) (1.2.0)\n",
      "Requirement already satisfied: pysocks!=1.5.7,<2.0,>=1.5.6 in c:\\python\\lib\\site-packages (from urllib3[socks]<3,>=1.26->selenium) (1.7.1)\n",
      "Requirement already satisfied: pycparser in c:\\python\\lib\\site-packages (from cffi>=1.14->trio~=0.17->selenium) (2.21)\n",
      "Requirement already satisfied: h11<1,>=0.9.0 in c:\\python\\lib\\site-packages (from wsproto>=0.14->trio-websocket~=0.9->selenium) (0.14.0)\n"
     ]
    },
    {
     "name": "stderr",
     "output_type": "stream",
     "text": [
      "\n",
      "[notice] A new release of pip is available: 23.1.2 -> 23.2\n",
      "[notice] To update, run: python.exe -m pip install --upgrade pip\n"
     ]
    }
   ],
   "source": [
    "!pip install bs4\n",
    "!pip install pandas\n",
    "!pip install selenium"
   ]
  },
  {
   "cell_type": "code",
   "execution_count": 5,
   "metadata": {},
   "outputs": [
    {
     "data": {
      "text/html": [
       "<div>\n",
       "<style scoped>\n",
       "    .dataframe tbody tr th:only-of-type {\n",
       "        vertical-align: middle;\n",
       "    }\n",
       "\n",
       "    .dataframe tbody tr th {\n",
       "        vertical-align: top;\n",
       "    }\n",
       "\n",
       "    .dataframe thead th {\n",
       "        text-align: right;\n",
       "    }\n",
       "</style>\n",
       "<table border=\"1\" class=\"dataframe\">\n",
       "  <thead>\n",
       "    <tr style=\"text-align: right;\">\n",
       "      <th></th>\n",
       "      <th>First Name</th>\n",
       "      <th>Last Name</th>\n",
       "      <th>Company Name</th>\n",
       "      <th>Role in Company</th>\n",
       "      <th>Address</th>\n",
       "      <th>Email</th>\n",
       "      <th>Phone Number</th>\n",
       "    </tr>\n",
       "  </thead>\n",
       "  <tbody>\n",
       "    <tr>\n",
       "      <th>0</th>\n",
       "      <td>John</td>\n",
       "      <td>Smith</td>\n",
       "      <td>IT Solutions</td>\n",
       "      <td>Analyst</td>\n",
       "      <td>98 North Road</td>\n",
       "      <td>jsmith@itsolutions.co.uk</td>\n",
       "      <td>40716543298</td>\n",
       "    </tr>\n",
       "    <tr>\n",
       "      <th>1</th>\n",
       "      <td>Jane</td>\n",
       "      <td>Dorsey</td>\n",
       "      <td>MediCare</td>\n",
       "      <td>Medical Engineer</td>\n",
       "      <td>11 Crown Street</td>\n",
       "      <td>jdorsey@mc.com</td>\n",
       "      <td>40791345621</td>\n",
       "    </tr>\n",
       "    <tr>\n",
       "      <th>2</th>\n",
       "      <td>Albert</td>\n",
       "      <td>Kipling</td>\n",
       "      <td>Waterfront</td>\n",
       "      <td>Accountant</td>\n",
       "      <td>22 Guild Street</td>\n",
       "      <td>kipling@waterfront.com</td>\n",
       "      <td>40735416854</td>\n",
       "    </tr>\n",
       "    <tr>\n",
       "      <th>3</th>\n",
       "      <td>Michael</td>\n",
       "      <td>Robertson</td>\n",
       "      <td>MediCare</td>\n",
       "      <td>IT Specialist</td>\n",
       "      <td>17 Farburn Terrace</td>\n",
       "      <td>mrobertson@mc.com</td>\n",
       "      <td>40733652145</td>\n",
       "    </tr>\n",
       "    <tr>\n",
       "      <th>4</th>\n",
       "      <td>Doug</td>\n",
       "      <td>Derrick</td>\n",
       "      <td>Timepath Inc.</td>\n",
       "      <td>Analyst</td>\n",
       "      <td>99 Shire Oak Road</td>\n",
       "      <td>dderrick@timepath.co.uk</td>\n",
       "      <td>40799885412</td>\n",
       "    </tr>\n",
       "  </tbody>\n",
       "</table>\n",
       "</div>"
      ],
      "text/plain": [
       "  First Name Last Name    Company Name   Role in Company             Address  \\\n",
       "0       John      Smith   IT Solutions           Analyst       98 North Road   \n",
       "1       Jane     Dorsey       MediCare  Medical Engineer     11 Crown Street   \n",
       "2     Albert    Kipling     Waterfront        Accountant     22 Guild Street   \n",
       "3    Michael  Robertson       MediCare     IT Specialist  17 Farburn Terrace   \n",
       "4       Doug    Derrick  Timepath Inc.           Analyst   99 Shire Oak Road   \n",
       "\n",
       "                      Email  Phone Number  \n",
       "0  jsmith@itsolutions.co.uk   40716543298  \n",
       "1            jdorsey@mc.com   40791345621  \n",
       "2    kipling@waterfront.com   40735416854  \n",
       "3         mrobertson@mc.com   40733652145  \n",
       "4   dderrick@timepath.co.uk   40799885412  "
      ]
     },
     "execution_count": 5,
     "metadata": {},
     "output_type": "execute_result"
    }
   ],
   "source": [
    "import pandas as pd\n",
    "\n",
    "filepath = r'C:\\Users\\fiska\\Downloads\\challenge (1).xlsx'\n",
    "dadosExcel = pd.read_excel(filepath)\n",
    "dadosExcel.head()"
   ]
  },
  {
   "cell_type": "code",
   "execution_count": 6,
   "metadata": {},
   "outputs": [],
   "source": [
    "from bs4 import BeautifulSoup\n",
    "from requests import get\n",
    "from selenium import webdriver\n",
    "from selenium.webdriver.common.keys import Keys\n",
    "import time"
   ]
  },
  {
   "cell_type": "code",
   "execution_count": 7,
   "metadata": {},
   "outputs": [],
   "source": [
    "from selenium.webdriver.common.by import By"
   ]
  },
  {
   "cell_type": "code",
   "execution_count": 8,
   "metadata": {},
   "outputs": [],
   "source": [
    "url = \"https://www.rpachallenge.com/\"\n",
    "my_web_form = get(url).content\n",
    "soup = BeautifulSoup(my_web_form, 'html.parser')"
   ]
  },
  {
   "cell_type": "code",
   "execution_count": 9,
   "metadata": {},
   "outputs": [],
   "source": [
    "path = r\"C:\\Users\\fiska\\OneDrive\\Área de Trabalho\\ChromeDriver\\chromedriver_win32\\chromedriver.exe\"\n",
    "options = webdriver.ChromeOptions()\n",
    "options.add_argument(\"--start-maximized\")\n",
    "driver = webdriver.Chrome(options=options)\n",
    "driver.get(url)"
   ]
  },
  {
   "cell_type": "code",
   "execution_count": 10,
   "metadata": {},
   "outputs": [
    {
     "name": "stdout",
     "output_type": "stream",
     "text": [
      "Index(['First Name', 'Last Name ', 'Company Name', 'Role in Company',\n",
      "       'Address', 'Email', 'Phone Number'],\n",
      "      dtype='object')\n"
     ]
    }
   ],
   "source": [
    "parametros = dadosExcel.columns\n",
    "print(parametros)"
   ]
  },
  {
   "cell_type": "code",
   "execution_count": 11,
   "metadata": {},
   "outputs": [
    {
     "data": {
      "text/plain": [
       "[]"
      ]
     },
     "execution_count": 11,
     "metadata": {},
     "output_type": "execute_result"
    }
   ],
   "source": [
    "driver.find_elements(By.CLASS_NAME)"
   ]
  },
  {
   "cell_type": "code",
   "execution_count": 12,
   "metadata": {},
   "outputs": [],
   "source": [
    "def fulfill_form(FirstName, LastName, CompanyName, Role_in_Company, Address, Email, PhoneNumber):\n",
    "    \n",
    "    time.sleep(3)\n",
    "    \n",
    "    start = driver.find_element(By.XPATH,'/html/body/app-root/div[2]/app-rpa1/div/div[1]/div[6]/button')\n",
    "    start.click()\n",
    "    \n",
    "    input_customer_FirstName = driver.find_element(By.XPATH,'//*[@ng-reflect-name=\"labelFirstName\"]')\n",
    "    input_customer_LastName = driver.find_element(By.XPATH,'//*[@ng-reflect-name=\"labelLastName\"]')\n",
    "    input_customer_CompanyName = driver.find_element(By.XPATH,'//*[@ng-reflect-name=\"labelCompanyName\"]')\n",
    "    input_customer_Role_in_Company = driver.find_element(By.XPATH,'//*[@ng-reflect-name=\"labelRole\"]')\n",
    "    input_customer_Address = driver.find_element(By.XPATH,'//*[@ng-reflect-name=\"labelAddress\"]')\n",
    "    input_customer_Email = driver.find_element(By.XPATH,'//*[@ng-reflect-name=\"labelEmail\"]')\n",
    "    input_customer_PhoneNumber = driver.find_element(By.XPATH,'//*[@ng-reflect-name=\"labelPhone\"]')\n",
    "    \n",
    "    submit = driver.find_element(By.XPATH,'/html/body/app-root/div[2]/app-rpa1/div/div[2]/form/input')\n",
    "\n",
    "    input_customer_FirstName.send_keys(FirstName)\n",
    "    input_customer_LastName.send_keys(LastName)\n",
    "    input_customer_CompanyName.send_keys(CompanyName)\n",
    "    input_customer_Role_in_Company.send_keys(Role_in_Company)\n",
    "    input_customer_Address.send_keys(Address)\n",
    "    input_customer_Email.send_keys(Email)\n",
    "    input_customer_PhoneNumber.send_keys(PhoneNumber)\n",
    "    \n",
    "    time.sleep(3)\n",
    "    \n",
    "    submit.click()"
   ]
  },
  {
   "cell_type": "code",
   "execution_count": 13,
   "metadata": {},
   "outputs": [
    {
     "data": {
      "text/plain": [
       "<generator object DataFrame.iterrows at 0x000001A0F9B62DF0>"
      ]
     },
     "execution_count": 13,
     "metadata": {},
     "output_type": "execute_result"
    }
   ],
   "source": [
    "dadosExcel.iterrows()"
   ]
  },
  {
   "cell_type": "code",
   "execution_count": 14,
   "metadata": {},
   "outputs": [
    {
     "name": "stdout",
     "output_type": "stream",
     "text": [
      "First Name                             John\n",
      "Last Name                             Smith\n",
      "Company Name                   IT Solutions\n",
      "Role in Company                     Analyst\n",
      "Address                       98 North Road\n",
      "Email              jsmith@itsolutions.co.uk\n",
      "Phone Number                    40716543298\n",
      "Name: 0, dtype: object\n",
      "First Name                     Jane\n",
      "Last Name                    Dorsey\n",
      "Company Name               MediCare\n",
      "Role in Company    Medical Engineer\n",
      "Address             11 Crown Street\n",
      "Email                jdorsey@mc.com\n",
      "Phone Number            40791345621\n",
      "Name: 1, dtype: object\n",
      "First Name                         Albert\n",
      "Last Name                         Kipling\n",
      "Company Name                   Waterfront\n",
      "Role in Company                Accountant\n",
      "Address                   22 Guild Street\n",
      "Email              kipling@waterfront.com\n",
      "Phone Number                  40735416854\n",
      "Name: 2, dtype: object\n",
      "First Name                    Michael\n",
      "Last Name                   Robertson\n",
      "Company Name                 MediCare\n",
      "Role in Company         IT Specialist\n",
      "Address            17 Farburn Terrace\n",
      "Email               mrobertson@mc.com\n",
      "Phone Number              40733652145\n",
      "Name: 3, dtype: object\n",
      "First Name                            Doug\n",
      "Last Name                          Derrick\n",
      "Company Name                 Timepath Inc.\n",
      "Role in Company                    Analyst\n",
      "Address                  99 Shire Oak Road\n",
      "Email              dderrick@timepath.co.uk\n",
      "Phone Number                   40799885412\n",
      "Name: 4, dtype: object\n",
      "First Name                       Jessie\n",
      "Last Name                       Marlowe\n",
      "Company Name              Aperture Inc.\n",
      "Role in Company               Scientist\n",
      "Address              27 Cheshire Street\n",
      "Email              jmarlowe@aperture.us\n",
      "Phone Number                40733154268\n",
      "Name: 5, dtype: object\n",
      "First Name                        Stan\n",
      "Last Name                         Hamm\n",
      "Company Name                 Sugarwell\n",
      "Role in Company                Advisor\n",
      "Address                    10 Dam Road\n",
      "Email              shamm@sugarwell.org\n",
      "Phone Number               40712462257\n",
      "Name: 6, dtype: object\n",
      "First Name                       Michelle\n",
      "Last Name                          Norton\n",
      "Company Name                Aperture Inc.\n",
      "Role in Company                 Scientist\n",
      "Address            13 White Rabbit Street\n",
      "Email                 mnorton@aperture.us\n",
      "Phone Number                  40731254562\n",
      "Name: 7, dtype: object\n",
      "First Name                          Stacy\n",
      "Last Name                          Shelby\n",
      "Company Name                      TechDev\n",
      "Role in Company                HR Manager\n",
      "Address            19 Pineapple Boulevard\n",
      "Email                 sshelby@techdev.com\n",
      "Phone Number                  40741785214\n",
      "Name: 8, dtype: object\n",
      "First Name                           Lara\n",
      "Last Name                          Palmer\n",
      "Company Name                Timepath Inc.\n",
      "Role in Company                Programmer\n",
      "Address                  87 Orange Street\n",
      "Email              lpalmer@timepath.co.uk\n",
      "Phone Number                  40731653845\n",
      "Name: 9, dtype: object\n"
     ]
    }
   ],
   "source": [
    "for index, row in dadosExcel.iterrows():\n",
    "    print (row)\n",
    "    pessoa = row"
   ]
  },
  {
   "cell_type": "code",
   "execution_count": 15,
   "metadata": {},
   "outputs": [
    {
     "name": "stdout",
     "output_type": "stream",
     "text": [
      "First Name                           Lara\n",
      "Last Name                          Palmer\n",
      "Company Name                Timepath Inc.\n",
      "Role in Company                Programmer\n",
      "Address                  87 Orange Street\n",
      "Email              lpalmer@timepath.co.uk\n",
      "Phone Number                  40731653845\n",
      "Name: 9, dtype: object\n"
     ]
    }
   ],
   "source": [
    "print(pessoa)"
   ]
  },
  {
   "cell_type": "code",
   "execution_count": 16,
   "metadata": {},
   "outputs": [],
   "source": [
    "for index, row in dadosExcel.iterrows():\n",
    "    dadosList = []\n",
    "    for x in row:\n",
    "        dadosList.append(x)\n",
    "    fulfill_form(*dadosList)"
   ]
  }
 ],
 "metadata": {
  "kernelspec": {
   "display_name": "Python 3",
   "language": "python",
   "name": "python3"
  },
  "language_info": {
   "codemirror_mode": {
    "name": "ipython",
    "version": 3
   },
   "file_extension": ".py",
   "mimetype": "text/x-python",
   "name": "python",
   "nbconvert_exporter": "python",
   "pygments_lexer": "ipython3",
   "version": "3.11.4"
  },
  "orig_nbformat": 4
 },
 "nbformat": 4,
 "nbformat_minor": 2
}
